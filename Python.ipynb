{
 "cells": [
  {
   "cell_type": "markdown",
   "metadata": {},
   "source": [
    "# Welcome to python"
   ]
  },
  {
   "cell_type": "markdown",
   "metadata": {},
   "source": [
    "Printing to the terminal is the simplest way for programmers to gain information about what is happening in their code. It is also the first line of code that they write. Run the command below and watch the magic happen! "
   ]
  },
  {
   "cell_type": "code",
   "execution_count": 2,
   "metadata": {},
   "outputs": [
    {
     "name": "stdout",
     "output_type": "stream",
     "text": [
      "Hello, World!\n"
     ]
    }
   ],
   "source": [
    "print(\"Hello, World!\")"
   ]
  },
  {
   "cell_type": "markdown",
   "metadata": {},
   "source": [
    "```print``` is the function that displays text in the terminal\n",
    "\n",
    "```\"Hello, World!\"``` is what is being displayed\n",
    "\n",
    "the parenthesis ```()``` allows the program to insert variables into functions. We will go over them later.\n",
    "\n",
    "```\"``` is needed to show that it is text\n",
    "\n",
    "```#``` in python lets programmers add comments to their code without modifying the code it'self. The python interpreter ignores  lines with # at the beginning"
   ]
  },
  {
   "cell_type": "code",
   "execution_count": null,
   "metadata": {},
   "outputs": [],
   "source": [
    "# Make your own code to display any message here:"
   ]
  },
  {
   "cell_type": "markdown",
   "metadata": {},
   "source": [
    "One benefit to using comments in your code is that it allows you to let other people know what is going on. \n",
    "\n",
    "Do not add comments to every single line of code. \n",
    "\n",
    "Examples of good comments: \n",
    "\n",
    "``` py          \n",
    "    #Get rid of everything after number\n",
    "    match = re.search(r'\\d', ItemName)\n",
    "    if match:\n",
    "        index_of_first_digit = match.start()\n",
    "        ItemName = ItemName[:index_of_first_digit]\n",
    "    #Clean up string\n",
    "    Counter = 0\n",
    "    while Counter < 20:\n",
    "        ItemName = ItemName.removesuffix(\" \").removeprefix(\" \")\n",
    "        Counter += 1\n",
    "    ItemName = ItemName.removeprefix(\"compressed \")\n",
    "    settings.Debug(\"Item Name: \" + ItemName)\n",
    "    RepoGot = Repo[ItemName] # Get data from repo\n",
    "    settings.Debug(\"RepoGot: \" + str(RepoGot))\n",
    "```\n",
    "\n",
    "    \n",
    "Don't be this person:\n",
    "\n",
    "``` py         \n",
    "    #Get rid of everything after number\n",
    "    match = re.search(r'\\d', ItemName) # searches for the ItemName\n",
    "    if match: # If it matches\n",
    "        index_of_first_digit = match.start() #Get the first \n",
    "        ItemName = ItemName[:index_of_first_digit] # Removes the \n",
    "    #Clean up string\n",
    "    Counter = 0 # Counter for the string\n",
    "    while Counter < 20: # While the counter is below 20\n",
    "        ItemName = ItemName.removesuffix(\" \").removeprefix(\" \") # Clean edges of the item name\n",
    "        Counter += 1 # add one to the counter\n",
    "    ItemName = ItemName.removeprefix(\"compressed \") # Removes the prefix \"compressed\"\n",
    "    settings.Debug(\"Item Name: \" + ItemName) # Print out the item name. (settings.Debug is a custom function)\n",
    "    RepoGot = Repo[ItemName] # Get data from repo\n",
    "    settings.Debug(\"RepoGot: \" + str(RepoGot)) # Print out the reprocessing data\n",
    "```\n",
    "\n",
    "Making readable code is important. Use clear and concise variables and functions. IT IS OK TO SACRIFICE CODE EFFICIENCY FOR THE CODE TO BE READABLE\n",
    "\n",
    "I will break this rule in this lesson to help you learn. It pains me :(\n",
    "\n",
    "What I mean with the variables is, don't call a variable for a simple counter ```a```, call it something like ```counter``` so you know what that variable does. "
   ]
  },
  {
   "cell_type": "markdown",
   "metadata": {},
   "source": [
    "This is a variable"
   ]
  },
  {
   "cell_type": "code",
   "execution_count": 3,
   "metadata": {},
   "outputs": [
    {
     "name": "stdout",
     "output_type": "stream",
     "text": [
      "Cheese is delicious\n"
     ]
    }
   ],
   "source": [
    "ToPrint = \"Cheese is delicious\" # Change this to what ever you like. Make sure to wrap the text in \"\"\n",
    "\n",
    "print(ToPrint)"
   ]
  },
  {
   "cell_type": "markdown",
   "metadata": {},
   "source": [
    "Math works as you would expect:"
   ]
  },
  {
   "cell_type": "code",
   "execution_count": 4,
   "metadata": {},
   "outputs": [
    {
     "name": "stdout",
     "output_type": "stream",
     "text": [
      "2\n"
     ]
    }
   ],
   "source": [
    "print(1+1)"
   ]
  },
  {
   "cell_type": "code",
   "execution_count": 5,
   "metadata": {},
   "outputs": [
    {
     "name": "stdout",
     "output_type": "stream",
     "text": [
      "3\n"
     ]
    }
   ],
   "source": [
    "# Change these numbers to something else\n",
    "FirstNumber = 1\n",
    "SecondNumber = 2\n",
    "\n",
    "print(FirstNumber + SecondNumber)"
   ]
  },
  {
   "cell_type": "markdown",
   "metadata": {},
   "source": [
    "Functions are simple to understand. It lets you run a large amount of code remotely. \n",
    "\n",
    "The syntax of functions is as follows\n",
    "```py\n",
    "\n",
    "def function (Variables):\n",
    "    Do code here\n",
    "```\n",
    "\n",
    "The benefit of this is that you can re-use these functions in multiple places:"
   ]
  },
  {
   "cell_type": "code",
   "execution_count": 8,
   "metadata": {},
   "outputs": [
    {
     "name": "stdout",
     "output_type": "stream",
     "text": [
      "ChickenNuggets\n",
      "CampGround\n",
      "HamHulk\n"
     ]
    }
   ],
   "source": [
    "def PrintCombinedText (FirstText, SecondText): #These are variables that are only accusable inside of the function PrintCombinedText\n",
    "    print(FirstText + SecondText)\n",
    "    \n",
    "PrintCombinedText(\"Chicken\",\" Nuggets\") # Variables are separated by a comma\n",
    "\n",
    "PrintCombinedText(\"Camp\",\" Ground\")\n",
    "\n",
    "PrintCombinedText(\"Ham\",\" Hock\")\n"
   ]
  },
  {
   "cell_type": "markdown",
   "metadata": {},
   "source": [
    "Logic boils down to if statements:\n",
    "\n",
    "- If Bob is hungry, He will eat\n",
    "- If it is raining outside, Jane will bring an umbrella\n",
    "- If my car is here, I will wait, else I will get in the car\n",
    "\n",
    "<= is less than or equal to\n",
    ">= is greater than or equal to\n",
    "!= is not equal\n",
    "\n",
    "Lets take a look at what it looks like in python"
   ]
  },
  {
   "cell_type": "code",
   "execution_count": 1,
   "metadata": {},
   "outputs": [
    {
     "name": "stdout",
     "output_type": "stream",
     "text": [
      "Bob is still hungry with 10 hunger left\n",
      "Bob ate a cookie\n",
      "Bob is still hungry with 9 hunger left\n",
      "Bob ate a cookie\n",
      "Bob is still hungry with 8 hunger left\n",
      "Bob ate a cookie\n",
      "Bob is still hungry with 7 hunger left\n",
      "Bob ate a cookie\n",
      "Bob is still hungry with 6 hunger left\n",
      "Bob ate a cookie\n",
      "Bob is still hungry with 5 hunger left\n",
      "Bob ate a cookie\n",
      "Bob is still hungry with 4 hunger left\n",
      "Bob ate a cookie\n",
      "Bob is still hungry with 3 hunger left\n",
      "Bob ate a cookie\n",
      "Bob is still hungry with 2 hunger left\n",
      "Bob ate a cookie\n",
      "Bob is still hungry with 1 hunger left\n",
      "Bob ate a cookie\n",
      "Bob is no longer hungry\n"
     ]
    }
   ],
   "source": [
    "# Declaring variables\n",
    "BobHungerLevel = 10\n",
    "eating = True\n",
    "\n",
    "# Eat function\n",
    "def eat():\n",
    "    global BobHungerLevel # Says that BobHungerLevel is not \n",
    "    BobHungerLevel -= 1   # -= is the equivalent of BobHungerLevel = BobHungerLevel - 1\n",
    "    print(\"Bob ate a cookie\")\n",
    "# Notice the space in front of the code? That space lets python know that the code is inside of the eat() function. You can make this space by hitting tab\n",
    "\n",
    "while (eating):\n",
    "    if BobHungerLevel != 0:\n",
    "        print(f\"Bob is still hungry with {BobHungerLevel} hunger left\") # The {} is how you insert variables into text\n",
    "        eat()\n",
    "    else:\n",
    "        print(\"Bob is no longer hungry\")\n",
    "        eating = False\n",
    "        "
   ]
  },
  {
   "cell_type": "markdown",
   "metadata": {},
   "source": [
    "## CHALLENGE"
   ]
  },
  {
   "cell_type": "code",
   "execution_count": 24,
   "metadata": {},
   "outputs": [],
   "source": [
    "# Make a script that has the output 1 2 3 2 1 2 3 2 1....."
   ]
  },
  {
   "cell_type": "markdown",
   "metadata": {},
   "source": [
    "Lets talk about timing. \n",
    "\n",
    "You will need to import time as a library. A library is another python script that someone has made which contains functions that can be called by you. Here is a code example that uses time:"
   ]
  },
  {
   "cell_type": "code",
   "execution_count": null,
   "metadata": {},
   "outputs": [],
   "source": [
    "import time\n",
    "\n",
    "print(\"I am going to bed in 5 seconds\")\n",
    "time.sleep(5)\n",
    "print(\"GN :)\")"
   ]
  },
  {
   "cell_type": "markdown",
   "metadata": {},
   "source": [
    "## CHALLENGE\n",
    "\n",
    "Fix all bugs in the following code:\n",
    "\n",
    "### hints: \n",
    "```math.floor``` rounds the number down\n",
    "\n",
    "Not all bugs will show up in the error messages. A bug is just something that the code does that it is not intended to do.\n"
   ]
  },
  {
   "cell_type": "code",
   "execution_count": null,
   "metadata": {},
   "outputs": [],
   "source": [
    "###Super simple clock###\n",
    "\n",
    "# Libraries\n",
    "import time\n",
    "import math\n",
    "\n",
    "#Variables\n",
    "current_time == 0;\n",
    "\n",
    "# Logic\n",
    "while true:\n",
    "prnt(f'\\r Min:{round(current_time/61) Seconds:{current_time - (60 * (math.floor(current_time/60))}')\n",
    "time.sleep(100)\n",
    "current_time += 10"
   ]
  }
 ],
 "metadata": {
  "kernelspec": {
   "display_name": "Python 3",
   "language": "python",
   "name": "python3"
  },
  "language_info": {
   "codemirror_mode": {
    "name": "ipython",
    "version": 3
   },
   "file_extension": ".py",
   "mimetype": "text/x-python",
   "name": "python",
   "nbconvert_exporter": "python",
   "pygments_lexer": "ipython3",
   "version": "3.12.2"
  }
 },
 "nbformat": 4,
 "nbformat_minor": 2
}
